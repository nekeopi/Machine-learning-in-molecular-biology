{
  "cells": [
    {
      "cell_type": "markdown",
      "metadata": {
        "id": "EQOP3uvfo8B0"
      },
      "source": [
        "Steps:\n",
        "1. Unzip the dm6.fa.zip file. It contains the genome of DM in FASTA format.\n",
        "2. Unzip the genes.txt.zip file. It contains locations of exons and intros of the DM genes.\n",
        "3. Install Python and Jupyter notebook.\n",
        "4. Create a new notebook.\n"
      ]
    },
    {
      "cell_type": "code",
      "execution_count": 1,
      "metadata": {
        "colab": {
          "base_uri": "https://localhost:8080/"
        },
        "id": "R0RPy15-6mjl",
        "outputId": "68eb3a1d-e581-4679-9f38-860fceaef54a"
      },
      "outputs": [
        {
          "name": "stdout",
          "output_type": "stream",
          "text": [
            "Mounted at /content/drive\n"
          ]
        }
      ],
      "source": [
        "from google.colab import drive\n",
        "drive.mount('/content/drive')"
      ]
    },
    {
      "cell_type": "code",
      "execution_count": 2,
      "metadata": {
        "colab": {
          "base_uri": "https://localhost:8080/"
        },
        "id": "Ni2vDxpLbHjn",
        "outputId": "28274db8-8e85-481f-a858-a12151ec9ce5"
      },
      "outputs": [
        {
          "name": "stdout",
          "output_type": "stream",
          "text": [
            "Reading package lists... Done\n",
            "Building dependency tree... Done\n",
            "Reading state information... Done\n",
            "The following NEW packages will be installed:\n",
            "  bedtools\n",
            "0 upgraded, 1 newly installed, 0 to remove and 49 not upgraded.\n",
            "Need to get 563 kB of archives.\n",
            "After this operation, 1,548 kB of additional disk space will be used.\n",
            "Get:1 http://archive.ubuntu.com/ubuntu jammy-updates/universe amd64 bedtools amd64 2.30.0+dfsg-2ubuntu0.1 [563 kB]\n",
            "Fetched 563 kB in 1s (929 kB/s)\n",
            "Selecting previously unselected package bedtools.\n",
            "(Reading database ... 123632 files and directories currently installed.)\n",
            "Preparing to unpack .../bedtools_2.30.0+dfsg-2ubuntu0.1_amd64.deb ...\n",
            "Unpacking bedtools (2.30.0+dfsg-2ubuntu0.1) ...\n",
            "Setting up bedtools (2.30.0+dfsg-2ubuntu0.1) ...\n",
            "Collecting biopython\n",
            "  Downloading biopython-1.84-cp310-cp310-manylinux_2_17_x86_64.manylinux2014_x86_64.whl.metadata (12 kB)\n",
            "Requirement already satisfied: numpy in /usr/local/lib/python3.10/dist-packages (from biopython) (1.26.4)\n",
            "Downloading biopython-1.84-cp310-cp310-manylinux_2_17_x86_64.manylinux2014_x86_64.whl (3.2 MB)\n",
            "\u001b[2K   \u001b[90m━━━━━━━━━━━━━━━━━━━━━━━━━━━━━━━━━━━━━━━━\u001b[0m \u001b[32m3.2/3.2 MB\u001b[0m \u001b[31m34.7 MB/s\u001b[0m eta \u001b[36m0:00:00\u001b[0m\n",
            "\u001b[?25hInstalling collected packages: biopython\n",
            "Successfully installed biopython-1.84\n"
          ]
        }
      ],
      "source": [
        "!apt-get install -y bedtools\n",
        "import pandas as pd\n",
        "!pip install biopython\n",
        "from Bio import SeqIO\n",
        "import numpy as np\n",
        "from itertools import product\n"
      ]
    },
    {
      "cell_type": "markdown",
      "metadata": {
        "id": "c73RBBQtYdYr"
      },
      "source": [
        "a. Extract the locations of the exons and the introns. Save exon locations to a file in\n",
        "BED format. Save intron locations to a separate file in BED format. Make sure\n",
        "that there are no duplicated entries in each file and there are no intersecting\n",
        "regions between introns and exons. \n"
      ]
    },
    {
      "cell_type": "markdown",
      "metadata": {
        "id": "Yvo7AtYzsU0X"
      },
      "source": [
        "https://bedtools.readthedocs.io/en/latest/content/example-usage.html#"
      ]
    },
    {
      "cell_type": "code",
      "execution_count": 27,
      "metadata": {
        "colab": {
          "base_uri": "https://localhost:8080/"
        },
        "id": "rGv1NQUCo6hH",
        "outputId": "1ac812f4-c0f2-405d-8159-7bcd64c5ed57"
      },
      "outputs": [
        {
          "name": "stdout",
          "output_type": "stream",
          "text": [
            "Number of introns: 154003\n",
            "Number of exons: 188467\n"
          ]
        }
      ],
      "source": [
        "genes_file = \"/content/drive/MyDrive/mlinmb/1/genes.txt\"\n",
        "columns = [\"bin\", \"name\", \"chrom\", \"strand\", \"txStart\", \"txEnd\", \"cdsStart\", \"cdsEnd\", \"exonCount\", \"exonStarts\", \"exonEnds\", \"score\", \"name2\", \"cdsStartStat\", \"cdsEndStat\", \"exonFrames\"]\n",
        "df = pd.read_csv(genes_file, sep=\"\\t\", header=None, names=columns, skiprows=1)\n",
        "\n",
        "exons = []\n",
        "for i, row in df.iterrows():\n",
        "    exon_starts = row[\"exonStarts\"].strip(\",\").split(\",\")\n",
        "    exon_ends = row[\"exonEnds\"].strip(\",\").split(\",\")\n",
        "\n",
        "    # Create file with chrom name, start, and end positions\n",
        "    for j in range(len(exon_starts)):\n",
        "        start = int(exon_starts[j])\n",
        "        end = int(exon_ends[j])\n",
        "        chrom = row[\"chrom\"]\n",
        "        exons.append((chrom, start, end))\n",
        "\n",
        "introns = []\n",
        "for i, row in df.iterrows():\n",
        "    exon_starts = row[\"exonStarts\"].strip(\",\").split(\",\")\n",
        "    exon_ends = row[\"exonEnds\"].strip(\",\").split(\",\")\n",
        "\n",
        "    for j in range(len(exon_starts) - 1):  # Iterujemy do przedostatniego eksonu\n",
        "            intron_start = int(exon_ends[j])\n",
        "            intron_end = int(exon_starts[j + 1])\n",
        "            chrom = row[\"chrom\"]\n",
        "\n",
        "            if intron_start < intron_end:  # Sprawdzamy poprawność zakresu\n",
        "                introns.append((chrom, intron_start, intron_end))\n",
        "print(f\"Number of introns: {len(introns)}\")\n",
        "print(f\"Number of exons: {len(exons)}\")\n",
        "\n",
        "# remove duplicates and save to .bed\n",
        "exons = list(set(exons))\n",
        "introns = list(set(introns))\n",
        "\n",
        "with open(\"exons.bed\", \"w\") as f:\n",
        "    for exon in exons:\n",
        "        f.write(f\"{exon[0]}\\t{exon[1]}\\t{exon[2]}\\n\")\n",
        "\n",
        "with open(\"introns.bed\", \"w\") as f:\n",
        "    for intron in introns:\n",
        "        f.write(f\"{intron[0]}\\t{intron[1]}\\t{intron[2]}\\n\")\n",
        "\n"
      ]
    },
    {
      "cell_type": "code",
      "execution_count": 29,
      "metadata": {
        "id": "hy0RFGKR_mFi"
      },
      "outputs": [],
      "source": [
        "# - v returns regions in a that do not overlap with regions in b\n",
        "!bedtools intersect -v -a introns.bed -b exons.bed > introns_filtered.bed\n",
        "!bedtools intersect -v -a exons.bed -b introns.bed > exons_filtered.bed\n"
      ]
    },
    {
      "cell_type": "markdown",
      "metadata": {
        "id": "c5Jvd8G_Ymeb"
      },
      "source": [
        "b. Extract the sequences of exons and save them to a file in FASTA format. \n"
      ]
    },
    {
      "cell_type": "markdown",
      "metadata": {
        "id": "4gNaHmzC0Sbs"
      },
      "source": [
        "https://biopython.org/wiki/SeqIO"
      ]
    },
    {
      "cell_type": "code",
      "execution_count": 30,
      "metadata": {
        "id": "yGcSNYO4tUte"
      },
      "outputs": [],
      "source": [
        "genome_file = \"/content/drive/MyDrive/mlinmb/1/dm6.fa\"\n",
        "genome = SeqIO.to_dict(SeqIO.parse(genome_file, \"fasta\")) # create dictionary\n",
        "\n",
        "exons_file = \"exons.bed\"\n",
        "exons = []\n",
        "# add tuple to the list of exons\n",
        "with open(exons_file, \"r\") as bed:\n",
        "    for line in bed:\n",
        "        chrom, start, end = line.strip().split()[:3]\n",
        "        exons.append((chrom, int(start), int(end)))\n",
        "# extract sequence for the particular exon and save to fasta\n",
        "output_fasta = \"exons_sequences.fasta\"\n",
        "with open(output_fasta, \"w\") as output:\n",
        "    for i, (chrom, start, end) in enumerate(exons):\n",
        "        seq = genome[chrom].seq[start:end]\n",
        "        output.write(f\">exon_{i + 1}_{chrom}_{start}_{end}\\n{seq}\\n\")"
      ]
    },
    {
      "cell_type": "markdown",
      "metadata": {
        "id": "ZQlm94qIYtwo"
      },
      "source": [
        "c. Extract the sequences of introns and save them to a file in FASTA format."
      ]
    },
    {
      "cell_type": "code",
      "execution_count": 31,
      "metadata": {
        "id": "gq_XPFAoscV3"
      },
      "outputs": [],
      "source": [
        "genome_file = \"/content/drive/MyDrive/mlinmb/1/dm6.fa\"\n",
        "genome = SeqIO.to_dict(SeqIO.parse(genome_file, \"fasta\"))\n",
        "\n",
        "introns_file = \"introns.bed\"\n",
        "introns = []\n",
        "# the same for introns\n",
        "with open(introns_file, \"r\") as bed:\n",
        "    for line in bed:\n",
        "        chrom, start, end = line.strip().split()[:3]\n",
        "        introns.append((chrom, int(start), int(end)))\n",
        "\n",
        "output_fasta = \"introns_sequences.fasta\"\n",
        "with open(output_fasta, \"w\") as output:\n",
        "    for i, (chrom, start, end) in enumerate(introns):\n",
        "        seq = genome[chrom].seq[start:end]\n",
        "        output.write(f\">intron_{i + 1}_{chrom}_{start}_{end}\\n{seq}\\n\")"
      ]
    },
    {
      "cell_type": "markdown",
      "metadata": {
        "id": "ThFVYkUnZAOq"
      },
      "source": [
        "5. Write a Python class that generates a k-mer (k is a parameter that may take a value\n",
        "between 1 and 6) histogram from a DNA sequence. The order of k-mer is the same across all sequences. For this reason, we do not need to record the k-mers\n",
        "themselves—only their count. Additionally, all histograms of the same k have the same\n",
        "size, i.e. 4k. A histogram is available as a numpy array."
      ]
    },
    {
      "cell_type": "code",
      "execution_count": 32,
      "metadata": {
        "id": "AMcVZDcTudgH"
      },
      "outputs": [],
      "source": [
        "class KmerHistogram:\n",
        "    def __init__(self, k):\n",
        "        if k < 1 or k > 6:\n",
        "            raise ValueError(\"k must be between 1 and 6\")\n",
        "        self.k = k\n",
        "\n",
        "        # generate a list of all possible kmers\n",
        "        self.kmers = []\n",
        "        for p in product('ACGT', repeat=k):\n",
        "            kmer = ''.join(p)\n",
        "            self.kmers.append(kmer)\n",
        "\n",
        "        # assign kmers to indexes in dictionary\n",
        "        self.kmer_to_index = {}\n",
        "        for i in range(len(self.kmers)):\n",
        "            kmer = self.kmers[i]\n",
        "            self.kmer_to_index[kmer] = i\n",
        "\n",
        "    def generate_histogram(self, sequence):\n",
        "        # fill the histogram with zeros\n",
        "        histogram = np.zeros(len(self.kmers), dtype=int)\n",
        "\n",
        "        # count kmers\n",
        "        for i in range(len(sequence) - self.k + 1):\n",
        "            kmer = sequence[i:i + self.k]\n",
        "            if kmer in self.kmer_to_index:\n",
        "                index = self.kmer_to_index[kmer]\n",
        "                histogram[index] += 1\n",
        "\n",
        "        return histogram\n"
      ]
    },
    {
      "cell_type": "markdown",
      "metadata": {
        "id": "wkZLS0lXapZP"
      },
      "source": [
        "6. Filter the exons and the introns. Keep sequences that are at least 50 nucleotides and at most 1000 nucleotides."
      ]
    },
    {
      "cell_type": "code",
      "execution_count": 33,
      "metadata": {
        "colab": {
          "base_uri": "https://localhost:8080/"
        },
        "id": "BtQms-bmaxRF",
        "outputId": "e023c6fc-4070-4cd4-fbcc-83825cb3a239"
      },
      "outputs": [
        {
          "name": "stdout",
          "output_type": "stream",
          "text": [
            "Number of filtered exons: 69286\n",
            "Number of filtered introns: 46722\n"
          ]
        }
      ],
      "source": [
        "def filter_sequences(sequences):\n",
        "    filtered_sequences = []\n",
        "\n",
        "    for sequence in sequences:\n",
        "        length = len(sequence)\n",
        "        if length >= 50 and length <= 1000:\n",
        "            filtered_sequences.append(sequence)\n",
        "\n",
        "    return filtered_sequences\n",
        "\n",
        "# get exon and intron sequences from fasta file\n",
        "exon_sequences = []\n",
        "for record in SeqIO.parse(\"exons_sequences.fasta\", \"fasta\"):\n",
        "    exon_sequences.append(str(record.seq))\n",
        "\n",
        "intron_sequences = []\n",
        "for record in SeqIO.parse(\"introns_sequences.fasta\", \"fasta\"):\n",
        "    intron_sequences.append(str(record.seq))\n",
        "\n",
        "\n",
        "filtered_exons = filter_sequences(exon_sequences)\n",
        "filtered_introns = filter_sequences(intron_sequences)\n",
        "\n",
        "print(f\"Number of filtered exons: {len(filtered_exons)}\")\n",
        "print(f\"Number of filtered introns: {len(filtered_introns)}\")\n"
      ]
    },
    {
      "cell_type": "markdown",
      "metadata": {
        "id": "gXTs1Mgzbgo4"
      },
      "source": [
        "7. Convert each sequence to a histogram and collect all histograms (for exons and introns)\n",
        "into a matrix. This matrix is the features."
      ]
    },
    {
      "cell_type": "code",
      "execution_count": 34,
      "metadata": {
        "colab": {
          "base_uri": "https://localhost:8080/"
        },
        "id": "ejCwKQAMc4wo",
        "outputId": "6e2f492c-722c-4bff-b607-04ae356be677"
      },
      "outputs": [
        {
          "name": "stdout",
          "output_type": "stream",
          "text": [
            "Features matrix for exons:\n",
            "[[11  8  3 ...  1  2  1]\n",
            " [ 7  7  1 ...  0  1  1]\n",
            " [ 0  0  0 ...  0  0  0]\n",
            " ...\n",
            " [ 0  0  0 ...  0  0  0]\n",
            " [ 0  0  1 ...  0  0  0]\n",
            " [ 0  2  1 ...  0  1  0]]\n",
            "Features matrix for introns:\n",
            "[[11  7  4 ...  8 10 20]\n",
            " [ 0  0  0 ...  0  0  0]\n",
            " [ 7  2  2 ...  5  1  5]\n",
            " ...\n",
            " [ 0  2  0 ...  0  0  0]\n",
            " [ 0  0  0 ...  0  0  0]\n",
            " [ 1  2  1 ...  1  1  0]]\n"
          ]
        }
      ],
      "source": [
        "def histograms_to_matrix(sequences, kmer_hist):\n",
        "    histograms = []\n",
        "\n",
        "    for sequence in sequences:\n",
        "        histogram = kmer_hist.generate_histogram(sequence)\n",
        "        histograms.append(histogram)\n",
        "\n",
        "    features = np.array(histograms)  # list of histograms to matrix\n",
        "    return features\n",
        "\n",
        "\n",
        "kmer_hist = KmerHistogram(k=4)\n",
        "\n",
        "# features matrix\n",
        "exon_features = histograms_to_matrix(filtered_exons, kmer_hist)\n",
        "intron_features = histograms_to_matrix(filtered_introns, kmer_hist)\n",
        "\n",
        "print(\"Features matrix for exons:\")\n",
        "print(exon_features)\n",
        "\n",
        "print(\"Features matrix for introns:\")\n",
        "print(intron_features)"
      ]
    },
    {
      "cell_type": "markdown",
      "metadata": {
        "id": "6IylXwVQe4zd"
      },
      "source": [
        "8. Make another numpy array that has a row entry for each sequence. The value stored in\n",
        "this entry is 1 if the corresponding sequence in an exon and 0 if the corresponding sequence is an intron. This array is the labels."
      ]
    },
    {
      "cell_type": "code",
      "execution_count": 35,
      "metadata": {
        "colab": {
          "base_uri": "https://localhost:8080/"
        },
        "id": "e2MPQnTLe6bD",
        "outputId": "c6fde2bc-6fd0-4e64-d8d7-b7edecc676f9"
      },
      "outputs": [
        {
          "name": "stdout",
          "output_type": "stream",
          "text": [
            "Labels:\n",
            "[1 1 1 ... 0 0 0]\n"
          ]
        }
      ],
      "source": [
        "def create_labels(exon_count, intron_count):\n",
        "    # fill array with zeros\n",
        "    labels = np.zeros(exon_count + intron_count, dtype=int)\n",
        "    # set 1 for exons\n",
        "    for i in range(exon_count):\n",
        "        labels[i] = 1\n",
        "\n",
        "    return labels\n",
        "\n",
        "exon_count = len(filtered_exons)\n",
        "intron_count = len(filtered_introns)\n",
        "\n",
        "# label matrix\n",
        "labels = create_labels(exon_count, intron_count)\n",
        "\n",
        "print(\"Labels:\")\n",
        "print(labels)\n"
      ]
    },
    {
      "cell_type": "code",
      "execution_count": 36,
      "metadata": {
        "colab": {
          "base_uri": "https://localhost:8080/"
        },
        "id": "oozxalvtCjHE",
        "outputId": "564817af-1a68-4677-d942-1bd11987dbfc"
      },
      "outputs": [
        {
          "name": "stdout",
          "output_type": "stream",
          "text": [
            "Number of labels for exons: 69286\n",
            "Number of labels for introns: 46722\n"
          ]
        }
      ],
      "source": [
        "print(f\"Number of labels for exons: {np.sum(labels == 1)}\")\n",
        "print(f\"Number of labels for introns: {np.sum(labels == 0)}\")\n"
      ]
    },
    {
      "cell_type": "markdown",
      "metadata": {
        "id": "bA7ot_U5fNU9"
      },
      "source": [
        "9. Make sure using an assert statement that number of rows in the features and the labels\n",
        "are the same."
      ]
    },
    {
      "cell_type": "code",
      "execution_count": 37,
      "metadata": {
        "colab": {
          "base_uri": "https://localhost:8080/"
        },
        "id": "E492MDLNfVA6",
        "outputId": "e05b686f-fa8a-42b8-9e71-d6e408ac22b2"
      },
      "outputs": [
        {
          "name": "stdout",
          "output_type": "stream",
          "text": [
            "Assert succesful\n",
            "Features Shape: (116008, 256)\n",
            "Labels Shape: (116008,)\n"
          ]
        }
      ],
      "source": [
        "def assert_number_of_rows_and_labels(features, labels):\n",
        "    assert features.shape[0] == labels.shape[0], 'Not the same number'\n",
        "\n",
        "#\n",
        "features = np.vstack([exon_features, intron_features])\n",
        "\n",
        "assert_number_of_rows_and_labels(features, labels)\n",
        "\n",
        "print(\"Assert succesful\")\n",
        "\n",
        "print(f\"Features Shape: {features.shape}\")\n",
        "print(f\"Labels Shape: {labels.shape}\")"
      ]
    },
    {
      "cell_type": "markdown",
      "metadata": {
        "id": "UdhC5Zo-fUjh"
      },
      "source": [
        "10. Save the feature matrix and the label array to the disk."
      ]
    },
    {
      "cell_type": "code",
      "execution_count": 38,
      "metadata": {
        "colab": {
          "base_uri": "https://localhost:8080/"
        },
        "id": "YHuQ2WdOfoW5",
        "outputId": "9275d31f-c03c-4f15-d3e4-7a3f49fa25f3"
      },
      "outputs": [
        {
          "name": "stdout",
          "output_type": "stream",
          "text": [
            "Features saved as /content/drive/MyDrive/mlinmb/1/features.npy\n",
            "Labels saved as /content/drive/MyDrive/mlinmb/1/labels.npy\n"
          ]
        }
      ],
      "source": [
        "def save_features_and_labels(features, labels, features_filename, labels_filename):\n",
        "    np.save(features_filename, features)\n",
        "    np.save(labels_filename, labels)\n",
        "\n",
        "features_filename = \"/content/drive/MyDrive/mlinmb/1/features.npy\"\n",
        "labels_filename = \"/content/drive/MyDrive/mlinmb/1/labels.npy\"\n",
        "\n",
        "save_features_and_labels(features, labels, features_filename, labels_filename)\n",
        "\n",
        "print(f\"Features saved as {features_filename}\")\n",
        "print(f\"Labels saved as {labels_filename}\")\n"
      ]
    }
  ],
  "metadata": {
    "colab": {
      "provenance": []
    },
    "kernelspec": {
      "display_name": "Python 3",
      "name": "python3"
    },
    "language_info": {
      "name": "python"
    }
  },
  "nbformat": 4,
  "nbformat_minor": 0
}
